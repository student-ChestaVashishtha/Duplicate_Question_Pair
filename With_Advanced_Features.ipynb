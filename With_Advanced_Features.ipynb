{
 "cells": [
  {
   "cell_type": "code",
   "execution_count": 2,
   "id": "c6b89a4d-516b-4c74-b30f-95899dca3f27",
   "metadata": {},
   "outputs": [],
   "source": [
    "\n",
    "import numpy as np\n",
    "import pandas as pd\n",
    "import matplotlib.pyplot as plt\n",
    "import seaborn as sns\n",
    "\n",
    "import warnings\n",
    "warnings.filterwarnings('ignore')"
   ]
  },
  {
   "cell_type": "code",
   "execution_count": 3,
   "id": "e30ac8bc-134f-47ac-9112-e6ca02c64855",
   "metadata": {},
   "outputs": [],
   "source": [
    "df=pd.read_csv(\"train.csv\")"
   ]
  },
  {
   "cell_type": "code",
   "execution_count": 4,
   "id": "870fafe1-6dd5-4fe6-90ec-b28191c56a36",
   "metadata": {},
   "outputs": [
    {
     "data": {
      "text/html": [
       "<div>\n",
       "<style scoped>\n",
       "    .dataframe tbody tr th:only-of-type {\n",
       "        vertical-align: middle;\n",
       "    }\n",
       "\n",
       "    .dataframe tbody tr th {\n",
       "        vertical-align: top;\n",
       "    }\n",
       "\n",
       "    .dataframe thead th {\n",
       "        text-align: right;\n",
       "    }\n",
       "</style>\n",
       "<table border=\"1\" class=\"dataframe\">\n",
       "  <thead>\n",
       "    <tr style=\"text-align: right;\">\n",
       "      <th></th>\n",
       "      <th>id</th>\n",
       "      <th>qid1</th>\n",
       "      <th>qid2</th>\n",
       "      <th>question1</th>\n",
       "      <th>question2</th>\n",
       "      <th>is_duplicate</th>\n",
       "    </tr>\n",
       "  </thead>\n",
       "  <tbody>\n",
       "    <tr>\n",
       "      <th>0</th>\n",
       "      <td>0</td>\n",
       "      <td>38442</td>\n",
       "      <td>38443</td>\n",
       "      <td>Has anyone tried to harness the energy from li...</td>\n",
       "      <td>Can we store the energy from lightining?</td>\n",
       "      <td>1</td>\n",
       "    </tr>\n",
       "    <tr>\n",
       "      <th>1</th>\n",
       "      <td>1</td>\n",
       "      <td>130040</td>\n",
       "      <td>130041</td>\n",
       "      <td>Is there any statistics that can prove that ho...</td>\n",
       "      <td>Why are summer holidays important to you?</td>\n",
       "      <td>0</td>\n",
       "    </tr>\n",
       "    <tr>\n",
       "      <th>2</th>\n",
       "      <td>2</td>\n",
       "      <td>497108</td>\n",
       "      <td>497109</td>\n",
       "      <td>Which is the fastest supercomputer in the world?</td>\n",
       "      <td>Which is the fastest supercomputer in India?</td>\n",
       "      <td>0</td>\n",
       "    </tr>\n",
       "    <tr>\n",
       "      <th>3</th>\n",
       "      <td>3</td>\n",
       "      <td>42322</td>\n",
       "      <td>42323</td>\n",
       "      <td>How do I make $500k as a CPA?</td>\n",
       "      <td>How much money can I make with a CPA?</td>\n",
       "      <td>0</td>\n",
       "    </tr>\n",
       "    <tr>\n",
       "      <th>4</th>\n",
       "      <td>4</td>\n",
       "      <td>26031</td>\n",
       "      <td>29112</td>\n",
       "      <td>Why doesn't Apple launch a dual SIM iPhone?</td>\n",
       "      <td>Would you like a dual sim Iphone? Why doesn't ...</td>\n",
       "      <td>1</td>\n",
       "    </tr>\n",
       "  </tbody>\n",
       "</table>\n",
       "</div>"
      ],
      "text/plain": [
       "   id    qid1    qid2                                          question1  \\\n",
       "0   0   38442   38443  Has anyone tried to harness the energy from li...   \n",
       "1   1  130040  130041  Is there any statistics that can prove that ho...   \n",
       "2   2  497108  497109   Which is the fastest supercomputer in the world?   \n",
       "3   3   42322   42323                      How do I make $500k as a CPA?   \n",
       "4   4   26031   29112        Why doesn't Apple launch a dual SIM iPhone?   \n",
       "\n",
       "                                           question2  is_duplicate  \n",
       "0           Can we store the energy from lightining?             1  \n",
       "1          Why are summer holidays important to you?             0  \n",
       "2       Which is the fastest supercomputer in India?             0  \n",
       "3              How much money can I make with a CPA?             0  \n",
       "4  Would you like a dual sim Iphone? Why doesn't ...             1  "
      ]
     },
     "execution_count": 4,
     "metadata": {},
     "output_type": "execute_result"
    }
   ],
   "source": [
    "df.head()"
   ]
  },
  {
   "cell_type": "code",
   "execution_count": 5,
   "id": "ec9daf36-5059-4a19-a87d-7eeceb4b1dc8",
   "metadata": {},
   "outputs": [
    {
     "data": {
      "text/plain": [
       "(242574, 6)"
      ]
     },
     "execution_count": 5,
     "metadata": {},
     "output_type": "execute_result"
    }
   ],
   "source": [
    "df.shape"
   ]
  },
  {
   "cell_type": "code",
   "execution_count": 6,
   "id": "167259b9-5a0d-4c37-9067-8e46ad532ba4",
   "metadata": {},
   "outputs": [],
   "source": [
    "new_df = df.sample(30000,random_state=2)"
   ]
  },
  {
   "cell_type": "code",
   "execution_count": 7,
   "id": "74885fc4-f561-4df8-8ffb-69819abf93d1",
   "metadata": {},
   "outputs": [
    {
     "data": {
      "text/plain": [
       "(30000, 6)"
      ]
     },
     "execution_count": 7,
     "metadata": {},
     "output_type": "execute_result"
    }
   ],
   "source": [
    "new_df.shape"
   ]
  },
  {
   "cell_type": "code",
   "execution_count": 8,
   "id": "b33735c8-f85d-4246-9c8f-6dd197948ec3",
   "metadata": {},
   "outputs": [
    {
     "data": {
      "text/plain": [
       "id              0\n",
       "qid1            0\n",
       "qid2            0\n",
       "question1       0\n",
       "question2       1\n",
       "is_duplicate    0\n",
       "dtype: int64"
      ]
     },
     "execution_count": 8,
     "metadata": {},
     "output_type": "execute_result"
    }
   ],
   "source": [
    "\n",
    "new_df.isnull().sum()"
   ]
  },
  {
   "cell_type": "code",
   "execution_count": 9,
   "id": "0db07b06-a18b-47b1-a88a-0f221c915c41",
   "metadata": {},
   "outputs": [],
   "source": [
    "new_df=new_df.dropna()"
   ]
  },
  {
   "cell_type": "code",
   "execution_count": 10,
   "id": "24782685-a1f7-41b0-be41-b27a3a1ab992",
   "metadata": {},
   "outputs": [
    {
     "data": {
      "text/plain": [
       "0"
      ]
     },
     "execution_count": 10,
     "metadata": {},
     "output_type": "execute_result"
    }
   ],
   "source": [
    "new_df.duplicated().sum()"
   ]
  },
  {
   "cell_type": "code",
   "execution_count": 11,
   "id": "a6e8df3b-8d92-4bba-b10f-680b7941ff52",
   "metadata": {},
   "outputs": [
    {
     "name": "stdout",
     "output_type": "stream",
     "text": [
      "is_duplicate\n",
      "0    18962\n",
      "1    11037\n",
      "Name: count, dtype: int64\n",
      "is_duplicate\n",
      "0    63.208774\n",
      "1    36.791226\n",
      "Name: count, dtype: float64\n"
     ]
    },
    {
     "data": {
      "text/plain": [
       "<Axes: xlabel='is_duplicate'>"
      ]
     },
     "execution_count": 11,
     "metadata": {},
     "output_type": "execute_result"
    },
    {
     "data": {
      "image/png": "[encoded data removed]",
      "text/plain": [
       "<Figure size 640x480 with 1 Axes>"
      ]
     },
     "metadata": {},
     "output_type": "display_data"
    }
   ],
   "source": [
    "# Distribution of duplicate and non-duplicate questions\n",
    "\n",
    "print(new_df['is_duplicate'].value_counts())\n",
    "print((new_df['is_duplicate'].value_counts()/new_df['is_duplicate'].count())*100)\n",
    "new_df['is_duplicate'].value_counts().plot(kind='bar')"
   ]
  },
  {
   "cell_type": "code",
   "execution_count": 12,
   "id": "0003d605-a7bb-41bf-b80c-a2cd01453ec4",
   "metadata": {},
   "outputs": [
    {
     "name": "stdout",
     "output_type": "stream",
     "text": [
      "Number of unique questions 55353\n",
      "Number of questions getting repeated 3434\n"
     ]
    }
   ],
   "source": [
    "# Repeated questions\n",
    "\n",
    "qid = pd.Series(new_df['qid1'].tolist() + new_df['qid2'].tolist())\n",
    "print('Number of unique questions',np.unique(qid).shape[0])\n",
    "x = qid.value_counts()>1\n",
    "print('Number of questions getting repeated',x[x].shape[0])"
   ]
  },
  {
   "cell_type": "code",
   "execution_count": 13,
   "id": "52ff2dc9-41ac-4ee8-98d4-474ffe2c6602",
   "metadata": {},
   "outputs": [
    {
     "data": {
      "image/png": "[encoded data removed]",
      "text/plain": [
       "<Figure size 640x480 with 1 Axes>"
      ]
     },
     "metadata": {},
     "output_type": "display_data"
    }
   ],
   "source": [
    "# Repeated questions histogram\n",
    "\n",
    "plt.hist(qid.value_counts().values,bins=160)\n",
    "plt.yscale('log')\n",
    "plt.show()"
   ]
  },
  {
   "cell_type": "code",
   "execution_count": 14,
   "id": "40520f92-5d06-4ec0-b8d7-66c46a47635f",
   "metadata": {},
   "outputs": [],
   "source": [
    "new_df['question1']=new_df['question1'].str.lower()\n",
    "new_df['question2']=new_df['question2'].str.lower()"
   ]
  },
  {
   "cell_type": "code",
   "execution_count": 15,
   "id": "6431a8d4-cd24-4cf5-8cb3-9f89b9785287",
   "metadata": {},
   "outputs": [],
   "source": [
    "from nltk.corpus import stopwords\n",
    "word=stopwords.words('english')\n",
    "def remove_stopwords(text):\n",
    "    new=[]\n",
    "    for ch in text.split():\n",
    "        if ch in word:\n",
    "            new.append(\"\")\n",
    "        else:\n",
    "            new.append(ch)\n",
    "    x=new[:]\n",
    "    new.clear()\n",
    "    return \" \".join(x)"
   ]
  },
  {
   "cell_type": "code",
   "execution_count": 16,
   "id": "59a5c119-0464-4c86-bc32-fee3c40cbbe1",
   "metadata": {},
   "outputs": [],
   "source": [
    "new_df['question1']=new_df['question1'].apply(remove_stopwords)\n",
    "new_df['question2']=new_df['question2'].apply(remove_stopwords)"
   ]
  },
  {
   "cell_type": "code",
   "execution_count": 16,
   "id": "19423139-8d0f-492e-be1e-710d6735c0c8",
   "metadata": {},
   "outputs": [
    {
     "name": "stderr",
     "output_type": "stream",
     "text": [
      "[nltk_data] Downloading package punkt to\n",
      "[nltk_data]     C:\\Users\\praty\\AppData\\Roaming\\nltk_data...\n",
      "[nltk_data]   Package punkt is already up-to-date!\n",
      "[nltk_data] Downloading package wordnet to\n",
      "[nltk_data]     C:\\Users\\praty\\AppData\\Roaming\\nltk_data...\n",
      "[nltk_data]   Package wordnet is already up-to-date!\n",
      "[nltk_data] Downloading package omw-1.4 to\n",
      "[nltk_data]     C:\\Users\\praty\\AppData\\Roaming\\nltk_data...\n",
      "[nltk_data]   Package omw-1.4 is already up-to-date!\n"
     ]
    },
    {
     "data": {
      "text/plain": [
       "True"
      ]
     },
     "execution_count": 16,
     "metadata": {},
     "output_type": "execute_result"
    }
   ],
   "source": [
    "import nltk\n",
    "nltk.download('punkt')\n",
    "nltk.download('wordnet')\n",
    "nltk.download('omw-1.4')"
   ]
  },
  {
   "cell_type": "code",
   "execution_count": 17,
   "id": "135d7650-bee4-4adb-b3d3-ae3c0e12074f",
   "metadata": {},
   "outputs": [],
   "source": [
    "from nltk.stem import WordNetLemmatizer\n",
    "lemmatizer = WordNetLemmatizer()\n",
    "def stem_words(text):\n",
    "    return \" \".join([lemmatizer.lemmatize(i) for i in text.split()])\n",
    "new_df['question1']=new_df['question1'].apply(stem_words)"
   ]
  },
  {
   "cell_type": "code",
   "execution_count": 18,
   "id": "b3d37882-08ad-49b3-bd57-69e2776ae480",
   "metadata": {},
   "outputs": [],
   "source": [
    "new_df['question2']=new_df['question2'].apply(stem_words)"
   ]
  },
  {
   "cell_type": "code",
   "execution_count": 19,
   "id": "f5bee894-35f3-42b8-8be0-302db6e90e91",
   "metadata": {},
   "outputs": [],
   "source": [
    "\n",
    "# Feature Engineering\n",
    "\n",
    "new_df['q1_len'] = new_df['question1'].str.len() \n",
    "new_df['q2_len'] = new_df['question2'].str.len()"
   ]
  },
  {
   "cell_type": "code",
   "execution_count": 20,
   "id": "e3b3edca-7393-4a26-b8f6-1823341fab0d",
   "metadata": {},
   "outputs": [
    {
     "data": {
      "text/html": [
       "<div>\n",
       "<style scoped>\n",
       "    .dataframe tbody tr th:only-of-type {\n",
       "        vertical-align: middle;\n",
       "    }\n",
       "\n",
       "    .dataframe tbody tr th {\n",
       "        vertical-align: top;\n",
       "    }\n",
       "\n",
       "    .dataframe thead th {\n",
       "        text-align: right;\n",
       "    }\n",
       "</style>\n",
       "<table border=\"1\" class=\"dataframe\">\n",
       "  <thead>\n",
       "    <tr style=\"text-align: right;\">\n",
       "      <th></th>\n",
       "      <th>id</th>\n",
       "      <th>qid1</th>\n",
       "      <th>qid2</th>\n",
       "      <th>question1</th>\n",
       "      <th>question2</th>\n",
       "      <th>is_duplicate</th>\n",
       "      <th>q1_len</th>\n",
       "      <th>q2_len</th>\n",
       "      <th>q1_num_words</th>\n",
       "      <th>q2_num_words</th>\n",
       "    </tr>\n",
       "  </thead>\n",
       "  <tbody>\n",
       "    <tr>\n",
       "      <th>127540</th>\n",
       "      <td>127540</td>\n",
       "      <td>472705</td>\n",
       "      <td>490440</td>\n",
       "      <td>block pingdom google chrome?</td>\n",
       "      <td>way block ad google chrome mobile application?</td>\n",
       "      <td>0</td>\n",
       "      <td>28</td>\n",
       "      <td>46</td>\n",
       "      <td>4</td>\n",
       "      <td>7</td>\n",
       "    </tr>\n",
       "    <tr>\n",
       "      <th>39931</th>\n",
       "      <td>39931</td>\n",
       "      <td>107224</td>\n",
       "      <td>426386</td>\n",
       "      <td>italian expression 'bona sera' mean?</td>\n",
       "      <td>expression \"be heavy with\" mean?</td>\n",
       "      <td>0</td>\n",
       "      <td>36</td>\n",
       "      <td>32</td>\n",
       "      <td>5</td>\n",
       "      <td>5</td>\n",
       "    </tr>\n",
       "    <tr>\n",
       "      <th>93268</th>\n",
       "      <td>93268</td>\n",
       "      <td>81451</td>\n",
       "      <td>81703</td>\n",
       "      <td>religion islam happy uniform civil code india?</td>\n",
       "      <td>major change expected india uniform civil code...</td>\n",
       "      <td>1</td>\n",
       "      <td>46</td>\n",
       "      <td>58</td>\n",
       "      <td>7</td>\n",
       "      <td>9</td>\n",
       "    </tr>\n",
       "    <tr>\n",
       "      <th>160928</th>\n",
       "      <td>160928</td>\n",
       "      <td>531424</td>\n",
       "      <td>531425</td>\n",
       "      <td>split end slow hair growth?</td>\n",
       "      <td>braiding hair folding end upside speed hair gr...</td>\n",
       "      <td>0</td>\n",
       "      <td>27</td>\n",
       "      <td>51</td>\n",
       "      <td>5</td>\n",
       "      <td>8</td>\n",
       "    </tr>\n",
       "    <tr>\n",
       "      <th>199887</th>\n",
       "      <td>199887</td>\n",
       "      <td>12191</td>\n",
       "      <td>30647</td>\n",
       "      <td>way earning money online?</td>\n",
       "      <td>could make money online?</td>\n",
       "      <td>1</td>\n",
       "      <td>25</td>\n",
       "      <td>24</td>\n",
       "      <td>4</td>\n",
       "      <td>4</td>\n",
       "    </tr>\n",
       "  </tbody>\n",
       "</table>\n",
       "</div>"
      ],
      "text/plain": [
       "            id    qid1    qid2  \\\n",
       "127540  127540  472705  490440   \n",
       "39931    39931  107224  426386   \n",
       "93268    93268   81451   81703   \n",
       "160928  160928  531424  531425   \n",
       "199887  199887   12191   30647   \n",
       "\n",
       "                                             question1  \\\n",
       "127540                    block pingdom google chrome?   \n",
       "39931             italian expression 'bona sera' mean?   \n",
       "93268   religion islam happy uniform civil code india?   \n",
       "160928                     split end slow hair growth?   \n",
       "199887                       way earning money online?   \n",
       "\n",
       "                                                question2  is_duplicate  \\\n",
       "127540     way block ad google chrome mobile application?             0   \n",
       "39931                    expression \"be heavy with\" mean?             0   \n",
       "93268   major change expected india uniform civil code...             1   \n",
       "160928  braiding hair folding end upside speed hair gr...             0   \n",
       "199887                           could make money online?             1   \n",
       "\n",
       "        q1_len  q2_len  q1_num_words  q2_num_words  \n",
       "127540      28      46             4             7  \n",
       "39931       36      32             5             5  \n",
       "93268       46      58             7             9  \n",
       "160928      27      51             5             8  \n",
       "199887      25      24             4             4  "
      ]
     },
     "execution_count": 20,
     "metadata": {},
     "output_type": "execute_result"
    }
   ],
   "source": [
    "new_df['q1_num_words'] = new_df['question1'].apply(lambda row: len(row.split(\" \")))\n",
    "new_df['q2_num_words'] = new_df['question2'].apply(lambda row: len(row.split(\" \")))\n",
    "new_df.head()"
   ]
  },
  {
   "cell_type": "code",
   "execution_count": 21,
   "id": "f4e618dc-0354-4c1e-a2a1-55329b063953",
   "metadata": {},
   "outputs": [],
   "source": [
    "def common_words(row):\n",
    "    w1 = set(map(lambda word: word.lower().strip(), row['question1'].split(\" \")))\n",
    "    w2 = set(map(lambda word: word.lower().strip(), row['question2'].split(\" \")))    \n",
    "    return len(w1 & w2)"
   ]
  },
  {
   "cell_type": "code",
   "execution_count": 22,
   "id": "505c9605-4e6e-4d55-a010-c2942992e6d8",
   "metadata": {},
   "outputs": [
    {
     "data": {
      "text/html": [
       "<div>\n",
       "<style scoped>\n",
       "    .dataframe tbody tr th:only-of-type {\n",
       "        vertical-align: middle;\n",
       "    }\n",
       "\n",
       "    .dataframe tbody tr th {\n",
       "        vertical-align: top;\n",
       "    }\n",
       "\n",
       "    .dataframe thead th {\n",
       "        text-align: right;\n",
       "    }\n",
       "</style>\n",
       "<table border=\"1\" class=\"dataframe\">\n",
       "  <thead>\n",
       "    <tr style=\"text-align: right;\">\n",
       "      <th></th>\n",
       "      <th>id</th>\n",
       "      <th>qid1</th>\n",
       "      <th>qid2</th>\n",
       "      <th>question1</th>\n",
       "      <th>question2</th>\n",
       "      <th>is_duplicate</th>\n",
       "      <th>q1_len</th>\n",
       "      <th>q2_len</th>\n",
       "      <th>q1_num_words</th>\n",
       "      <th>q2_num_words</th>\n",
       "      <th>word_common</th>\n",
       "    </tr>\n",
       "  </thead>\n",
       "  <tbody>\n",
       "    <tr>\n",
       "      <th>127540</th>\n",
       "      <td>127540</td>\n",
       "      <td>472705</td>\n",
       "      <td>490440</td>\n",
       "      <td>block pingdom google chrome?</td>\n",
       "      <td>way block ad google chrome mobile application?</td>\n",
       "      <td>0</td>\n",
       "      <td>28</td>\n",
       "      <td>46</td>\n",
       "      <td>4</td>\n",
       "      <td>7</td>\n",
       "      <td>2</td>\n",
       "    </tr>\n",
       "    <tr>\n",
       "      <th>39931</th>\n",
       "      <td>39931</td>\n",
       "      <td>107224</td>\n",
       "      <td>426386</td>\n",
       "      <td>italian expression 'bona sera' mean?</td>\n",
       "      <td>expression \"be heavy with\" mean?</td>\n",
       "      <td>0</td>\n",
       "      <td>36</td>\n",
       "      <td>32</td>\n",
       "      <td>5</td>\n",
       "      <td>5</td>\n",
       "      <td>2</td>\n",
       "    </tr>\n",
       "    <tr>\n",
       "      <th>93268</th>\n",
       "      <td>93268</td>\n",
       "      <td>81451</td>\n",
       "      <td>81703</td>\n",
       "      <td>religion islam happy uniform civil code india?</td>\n",
       "      <td>major change expected india uniform civil code...</td>\n",
       "      <td>1</td>\n",
       "      <td>46</td>\n",
       "      <td>58</td>\n",
       "      <td>7</td>\n",
       "      <td>9</td>\n",
       "      <td>3</td>\n",
       "    </tr>\n",
       "    <tr>\n",
       "      <th>160928</th>\n",
       "      <td>160928</td>\n",
       "      <td>531424</td>\n",
       "      <td>531425</td>\n",
       "      <td>split end slow hair growth?</td>\n",
       "      <td>braiding hair folding end upside speed hair gr...</td>\n",
       "      <td>0</td>\n",
       "      <td>27</td>\n",
       "      <td>51</td>\n",
       "      <td>5</td>\n",
       "      <td>8</td>\n",
       "      <td>3</td>\n",
       "    </tr>\n",
       "    <tr>\n",
       "      <th>199887</th>\n",
       "      <td>199887</td>\n",
       "      <td>12191</td>\n",
       "      <td>30647</td>\n",
       "      <td>way earning money online?</td>\n",
       "      <td>could make money online?</td>\n",
       "      <td>1</td>\n",
       "      <td>25</td>\n",
       "      <td>24</td>\n",
       "      <td>4</td>\n",
       "      <td>4</td>\n",
       "      <td>2</td>\n",
       "    </tr>\n",
       "  </tbody>\n",
       "</table>\n",
       "</div>"
      ],
      "text/plain": [
       "            id    qid1    qid2  \\\n",
       "127540  127540  472705  490440   \n",
       "39931    39931  107224  426386   \n",
       "93268    93268   81451   81703   \n",
       "160928  160928  531424  531425   \n",
       "199887  199887   12191   30647   \n",
       "\n",
       "                                             question1  \\\n",
       "127540                    block pingdom google chrome?   \n",
       "39931             italian expression 'bona sera' mean?   \n",
       "93268   religion islam happy uniform civil code india?   \n",
       "160928                     split end slow hair growth?   \n",
       "199887                       way earning money online?   \n",
       "\n",
       "                                                question2  is_duplicate  \\\n",
       "127540     way block ad google chrome mobile application?             0   \n",
       "39931                    expression \"be heavy with\" mean?             0   \n",
       "93268   major change expected india uniform civil code...             1   \n",
       "160928  braiding hair folding end upside speed hair gr...             0   \n",
       "199887                           could make money online?             1   \n",
       "\n",
       "        q1_len  q2_len  q1_num_words  q2_num_words  word_common  \n",
       "127540      28      46             4             7            2  \n",
       "39931       36      32             5             5            2  \n",
       "93268       46      58             7             9            3  \n",
       "160928      27      51             5             8            3  \n",
       "199887      25      24             4             4            2  "
      ]
     },
     "execution_count": 22,
     "metadata": {},
     "output_type": "execute_result"
    }
   ],
   "source": [
    "new_df['word_common'] = new_df.apply(common_words, axis=1)\n",
    "new_df.head()"
   ]
  },
  {
   "cell_type": "code",
   "execution_count": 23,
   "id": "c6f80ee1-2304-40f7-8a9c-64285b5f8cff",
   "metadata": {},
   "outputs": [],
   "source": [
    "def total_words(row):\n",
    "    w1 = set(map(lambda word: word.lower().strip(), row['question1'].split(\" \")))\n",
    "    w2 = set(map(lambda word: word.lower().strip(), row['question2'].split(\" \")))    \n",
    "    return (len(w1) + len(w2))"
   ]
  },
  {
   "cell_type": "code",
   "execution_count": 24,
   "id": "df04ba19-4043-47ef-a726-83654f34201a",
   "metadata": {},
   "outputs": [
    {
     "data": {
      "text/html": [
       "<div>\n",
       "<style scoped>\n",
       "    .dataframe tbody tr th:only-of-type {\n",
       "        vertical-align: middle;\n",
       "    }\n",
       "\n",
       "    .dataframe tbody tr th {\n",
       "        vertical-align: top;\n",
       "    }\n",
       "\n",
       "    .dataframe thead th {\n",
       "        text-align: right;\n",
       "    }\n",
       "</style>\n",
       "<table border=\"1\" class=\"dataframe\">\n",
       "  <thead>\n",
       "    <tr style=\"text-align: right;\">\n",
       "      <th></th>\n",
       "      <th>id</th>\n",
       "      <th>qid1</th>\n",
       "      <th>qid2</th>\n",
       "      <th>question1</th>\n",
       "      <th>question2</th>\n",
       "      <th>is_duplicate</th>\n",
       "      <th>q1_len</th>\n",
       "      <th>q2_len</th>\n",
       "      <th>q1_num_words</th>\n",
       "      <th>q2_num_words</th>\n",
       "      <th>word_common</th>\n",
       "      <th>word_total</th>\n",
       "    </tr>\n",
       "  </thead>\n",
       "  <tbody>\n",
       "    <tr>\n",
       "      <th>127540</th>\n",
       "      <td>127540</td>\n",
       "      <td>472705</td>\n",
       "      <td>490440</td>\n",
       "      <td>block pingdom google chrome?</td>\n",
       "      <td>way block ad google chrome mobile application?</td>\n",
       "      <td>0</td>\n",
       "      <td>28</td>\n",
       "      <td>46</td>\n",
       "      <td>4</td>\n",
       "      <td>7</td>\n",
       "      <td>2</td>\n",
       "      <td>11</td>\n",
       "    </tr>\n",
       "    <tr>\n",
       "      <th>39931</th>\n",
       "      <td>39931</td>\n",
       "      <td>107224</td>\n",
       "      <td>426386</td>\n",
       "      <td>italian expression 'bona sera' mean?</td>\n",
       "      <td>expression \"be heavy with\" mean?</td>\n",
       "      <td>0</td>\n",
       "      <td>36</td>\n",
       "      <td>32</td>\n",
       "      <td>5</td>\n",
       "      <td>5</td>\n",
       "      <td>2</td>\n",
       "      <td>10</td>\n",
       "    </tr>\n",
       "    <tr>\n",
       "      <th>93268</th>\n",
       "      <td>93268</td>\n",
       "      <td>81451</td>\n",
       "      <td>81703</td>\n",
       "      <td>religion islam happy uniform civil code india?</td>\n",
       "      <td>major change expected india uniform civil code...</td>\n",
       "      <td>1</td>\n",
       "      <td>46</td>\n",
       "      <td>58</td>\n",
       "      <td>7</td>\n",
       "      <td>9</td>\n",
       "      <td>3</td>\n",
       "      <td>16</td>\n",
       "    </tr>\n",
       "    <tr>\n",
       "      <th>160928</th>\n",
       "      <td>160928</td>\n",
       "      <td>531424</td>\n",
       "      <td>531425</td>\n",
       "      <td>split end slow hair growth?</td>\n",
       "      <td>braiding hair folding end upside speed hair gr...</td>\n",
       "      <td>0</td>\n",
       "      <td>27</td>\n",
       "      <td>51</td>\n",
       "      <td>5</td>\n",
       "      <td>8</td>\n",
       "      <td>3</td>\n",
       "      <td>12</td>\n",
       "    </tr>\n",
       "    <tr>\n",
       "      <th>199887</th>\n",
       "      <td>199887</td>\n",
       "      <td>12191</td>\n",
       "      <td>30647</td>\n",
       "      <td>way earning money online?</td>\n",
       "      <td>could make money online?</td>\n",
       "      <td>1</td>\n",
       "      <td>25</td>\n",
       "      <td>24</td>\n",
       "      <td>4</td>\n",
       "      <td>4</td>\n",
       "      <td>2</td>\n",
       "      <td>8</td>\n",
       "    </tr>\n",
       "  </tbody>\n",
       "</table>\n",
       "</div>"
      ],
      "text/plain": [
       "            id    qid1    qid2  \\\n",
       "127540  127540  472705  490440   \n",
       "39931    39931  107224  426386   \n",
       "93268    93268   81451   81703   \n",
       "160928  160928  531424  531425   \n",
       "199887  199887   12191   30647   \n",
       "\n",
       "                                             question1  \\\n",
       "127540                    block pingdom google chrome?   \n",
       "39931             italian expression 'bona sera' mean?   \n",
       "93268   religion islam happy uniform civil code india?   \n",
       "160928                     split end slow hair growth?   \n",
       "199887                       way earning money online?   \n",
       "\n",
       "                                                question2  is_duplicate  \\\n",
       "127540     way block ad google chrome mobile application?             0   \n",
       "39931                    expression \"be heavy with\" mean?             0   \n",
       "93268   major change expected india uniform civil code...             1   \n",
       "160928  braiding hair folding end upside speed hair gr...             0   \n",
       "199887                           could make money online?             1   \n",
       "\n",
       "        q1_len  q2_len  q1_num_words  q2_num_words  word_common  word_total  \n",
       "127540      28      46             4             7            2          11  \n",
       "39931       36      32             5             5            2          10  \n",
       "93268       46      58             7             9            3          16  \n",
       "160928      27      51             5             8            3          12  \n",
       "199887      25      24             4             4            2           8  "
      ]
     },
     "execution_count": 24,
     "metadata": {},
     "output_type": "execute_result"
    }
   ],
   "source": [
    "new_df['word_total'] = new_df.apply(total_words, axis=1)\n",
    "new_df.head()"
   ]
  },
  {
   "cell_type": "code",
   "execution_count": 25,
   "id": "ac0bc75a-343f-4715-b3de-987bab5d5255",
   "metadata": {},
   "outputs": [
    {
     "data": {
      "text/html": [
       "<div>\n",
       "<style scoped>\n",
       "    .dataframe tbody tr th:only-of-type {\n",
       "        vertical-align: middle;\n",
       "    }\n",
       "\n",
       "    .dataframe tbody tr th {\n",
       "        vertical-align: top;\n",
       "    }\n",
       "\n",
       "    .dataframe thead th {\n",
       "        text-align: right;\n",
       "    }\n",
       "</style>\n",
       "<table border=\"1\" class=\"dataframe\">\n",
       "  <thead>\n",
       "    <tr style=\"text-align: right;\">\n",
       "      <th></th>\n",
       "      <th>id</th>\n",
       "      <th>qid1</th>\n",
       "      <th>qid2</th>\n",
       "      <th>question1</th>\n",
       "      <th>question2</th>\n",
       "      <th>is_duplicate</th>\n",
       "      <th>q1_len</th>\n",
       "      <th>q2_len</th>\n",
       "      <th>q1_num_words</th>\n",
       "      <th>q2_num_words</th>\n",
       "      <th>word_common</th>\n",
       "      <th>word_total</th>\n",
       "      <th>word_share</th>\n",
       "    </tr>\n",
       "  </thead>\n",
       "  <tbody>\n",
       "    <tr>\n",
       "      <th>127540</th>\n",
       "      <td>127540</td>\n",
       "      <td>472705</td>\n",
       "      <td>490440</td>\n",
       "      <td>block pingdom google chrome?</td>\n",
       "      <td>way block ad google chrome mobile application?</td>\n",
       "      <td>0</td>\n",
       "      <td>28</td>\n",
       "      <td>46</td>\n",
       "      <td>4</td>\n",
       "      <td>7</td>\n",
       "      <td>2</td>\n",
       "      <td>11</td>\n",
       "      <td>0.18</td>\n",
       "    </tr>\n",
       "    <tr>\n",
       "      <th>39931</th>\n",
       "      <td>39931</td>\n",
       "      <td>107224</td>\n",
       "      <td>426386</td>\n",
       "      <td>italian expression 'bona sera' mean?</td>\n",
       "      <td>expression \"be heavy with\" mean?</td>\n",
       "      <td>0</td>\n",
       "      <td>36</td>\n",
       "      <td>32</td>\n",
       "      <td>5</td>\n",
       "      <td>5</td>\n",
       "      <td>2</td>\n",
       "      <td>10</td>\n",
       "      <td>0.20</td>\n",
       "    </tr>\n",
       "    <tr>\n",
       "      <th>93268</th>\n",
       "      <td>93268</td>\n",
       "      <td>81451</td>\n",
       "      <td>81703</td>\n",
       "      <td>religion islam happy uniform civil code india?</td>\n",
       "      <td>major change expected india uniform civil code...</td>\n",
       "      <td>1</td>\n",
       "      <td>46</td>\n",
       "      <td>58</td>\n",
       "      <td>7</td>\n",
       "      <td>9</td>\n",
       "      <td>3</td>\n",
       "      <td>16</td>\n",
       "      <td>0.19</td>\n",
       "    </tr>\n",
       "    <tr>\n",
       "      <th>160928</th>\n",
       "      <td>160928</td>\n",
       "      <td>531424</td>\n",
       "      <td>531425</td>\n",
       "      <td>split end slow hair growth?</td>\n",
       "      <td>braiding hair folding end upside speed hair gr...</td>\n",
       "      <td>0</td>\n",
       "      <td>27</td>\n",
       "      <td>51</td>\n",
       "      <td>5</td>\n",
       "      <td>8</td>\n",
       "      <td>3</td>\n",
       "      <td>12</td>\n",
       "      <td>0.25</td>\n",
       "    </tr>\n",
       "    <tr>\n",
       "      <th>199887</th>\n",
       "      <td>199887</td>\n",
       "      <td>12191</td>\n",
       "      <td>30647</td>\n",
       "      <td>way earning money online?</td>\n",
       "      <td>could make money online?</td>\n",
       "      <td>1</td>\n",
       "      <td>25</td>\n",
       "      <td>24</td>\n",
       "      <td>4</td>\n",
       "      <td>4</td>\n",
       "      <td>2</td>\n",
       "      <td>8</td>\n",
       "      <td>0.25</td>\n",
       "    </tr>\n",
       "  </tbody>\n",
       "</table>\n",
       "</div>"
      ],
      "text/plain": [
       "            id    qid1    qid2  \\\n",
       "127540  127540  472705  490440   \n",
       "39931    39931  107224  426386   \n",
       "93268    93268   81451   81703   \n",
       "160928  160928  531424  531425   \n",
       "199887  199887   12191   30647   \n",
       "\n",
       "                                             question1  \\\n",
       "127540                    block pingdom google chrome?   \n",
       "39931             italian expression 'bona sera' mean?   \n",
       "93268   religion islam happy uniform civil code india?   \n",
       "160928                     split end slow hair growth?   \n",
       "199887                       way earning money online?   \n",
       "\n",
       "                                                question2  is_duplicate  \\\n",
       "127540     way block ad google chrome mobile application?             0   \n",
       "39931                    expression \"be heavy with\" mean?             0   \n",
       "93268   major change expected india uniform civil code...             1   \n",
       "160928  braiding hair folding end upside speed hair gr...             0   \n",
       "199887                           could make money online?             1   \n",
       "\n",
       "        q1_len  q2_len  q1_num_words  q2_num_words  word_common  word_total  \\\n",
       "127540      28      46             4             7            2          11   \n",
       "39931       36      32             5             5            2          10   \n",
       "93268       46      58             7             9            3          16   \n",
       "160928      27      51             5             8            3          12   \n",
       "199887      25      24             4             4            2           8   \n",
       "\n",
       "        word_share  \n",
       "127540        0.18  \n",
       "39931         0.20  \n",
       "93268         0.19  \n",
       "160928        0.25  \n",
       "199887        0.25  "
      ]
     },
     "execution_count": 25,
     "metadata": {},
     "output_type": "execute_result"
    }
   ],
   "source": [
    "new_df['word_share'] = round(new_df['word_common']/new_df['word_total'],2)\n",
    "new_df.head()"
   ]
  },
  {
   "cell_type": "code",
   "execution_count": 27,
   "id": "6be156ef-060b-407d-9658-21a00df97116",
   "metadata": {},
   "outputs": [],
   "source": [
    "# Advanced Features\n",
    "from nltk.corpus import stopwords\n",
    "\n",
    "def fetch_token_features(row):\n",
    "    \n",
    "    q1 = row['question1']\n",
    "    q2 = row['question2']\n",
    "    \n",
    "    SAFE_DIV = 0.0001 \n",
    "\n",
    "    STOP_WORDS = stopwords.words(\"english\")\n",
    "    \n",
    "    token_features = [0.0]*8\n",
    "    \n",
    "    # Converting the Sentence into Tokens: \n",
    "    q1_tokens = q1.split()\n",
    "    q2_tokens = q2.split()\n",
    "    \n",
    "    if len(q1_tokens) == 0 or len(q2_tokens) == 0:\n",
    "        return token_features\n",
    "\n",
    "    # Get the non-stopwords in Questions\n",
    "    q1_words = set([word for word in q1_tokens if word not in STOP_WORDS])\n",
    "    q2_words = set([word for word in q2_tokens if word not in STOP_WORDS])\n",
    "    \n",
    "    #Get the stopwords in Questions\n",
    "    q1_stops = set([word for word in q1_tokens if word in STOP_WORDS])\n",
    "    q2_stops = set([word for word in q2_tokens if word in STOP_WORDS])\n",
    "    \n",
    "    # Get the common non-stopwords from Question pair\n",
    "    common_word_count = len(q1_words.intersection(q2_words))\n",
    "    \n",
    "    # Get the common stopwords from Question pair\n",
    "    common_stop_count = len(q1_stops.intersection(q2_stops))\n",
    "    \n",
    "    # Get the common Tokens from Question pair\n",
    "    common_token_count = len(set(q1_tokens).intersection(set(q2_tokens)))\n",
    "    \n",
    "    \n",
    "    token_features[0] = common_word_count / (min(len(q1_words), len(q2_words)) + SAFE_DIV)\n",
    "    token_features[1] = common_word_count / (max(len(q1_words), len(q2_words)) + SAFE_DIV)\n",
    "    token_features[2] = common_stop_count / (min(len(q1_stops), len(q2_stops)) + SAFE_DIV)\n",
    "    token_features[3] = common_stop_count / (max(len(q1_stops), len(q2_stops)) + SAFE_DIV)\n",
    "    token_features[4] = common_token_count / (min(len(q1_tokens), len(q2_tokens)) + SAFE_DIV)\n",
    "    token_features[5] = common_token_count / (max(len(q1_tokens), len(q2_tokens)) + SAFE_DIV)\n",
    "    \n",
    "    # Last word of both question is same or not\n",
    "    token_features[6] = int(q1_tokens[-1] == q2_tokens[-1])\n",
    "    \n",
    "    # First word of both question is same or not\n",
    "    token_features[7] = int(q1_tokens[0] == q2_tokens[0])\n",
    "    \n",
    "    return token_features"
   ]
  },
  {
   "cell_type": "code",
   "execution_count": 28,
   "id": "a9634855-5cfc-4d9b-8d90-330f98bd74fa",
   "metadata": {},
   "outputs": [],
   "source": [
    "\n",
    "token_features = new_df.apply(fetch_token_features, axis=1)\n",
    "\n",
    "new_df[\"cwc_min\"]       = list(map(lambda x: x[0], token_features))\n",
    "new_df[\"cwc_max\"]       = list(map(lambda x: x[1], token_features))\n",
    "new_df[\"csc_min\"]       = list(map(lambda x: x[2], token_features))\n",
    "new_df[\"csc_max\"]       = list(map(lambda x: x[3], token_features))\n",
    "new_df[\"ctc_min\"]       = list(map(lambda x: x[4], token_features))\n",
    "new_df[\"ctc_max\"]       = list(map(lambda x: x[5], token_features))\n",
    "new_df[\"last_word_eq\"]  = list(map(lambda x: x[6], token_features))\n",
    "new_df[\"first_word_eq\"] = list(map(lambda x: x[7], token_features))"
   ]
  },
  {
   "cell_type": "code",
   "execution_count": 29,
   "id": "2360a978-4056-4a66-a14a-cac7fde8ea14",
   "metadata": {},
   "outputs": [],
   "source": [
    "import distance\n",
    "\n",
    "def fetch_length_features(row):\n",
    "    q1 = str(row['question1'])\n",
    "    q2 = str(row['question2'])\n",
    "\n",
    "    length_features = [0.0] * 3\n",
    "\n",
    "    q1_tokens = q1.split()\n",
    "    q2_tokens = q2.split()\n",
    "\n",
    "    if len(q1_tokens) == 0 or len(q2_tokens) == 0:\n",
    "        return length_features\n",
    "\n",
    "    length_features[0] = abs(len(q1_tokens) - len(q2_tokens))\n",
    "    length_features[1] = (len(q1_tokens) + len(q2_tokens)) / 2\n",
    "\n",
    "    strs = list(distance.lcsubstrings(q1, q2))\n",
    "    if strs:  # Check if list is not empty\n",
    "        length_features[2] = len(strs[0]) / (min(len(q1), len(q2)) + 1)\n",
    "    else:\n",
    "        length_features[2] = 0.0\n",
    "\n",
    "    return length_features\n",
    "\n",
    "    "
   ]
  },
  {
   "cell_type": "code",
   "execution_count": 30,
   "id": "887b4fba-ec71-4501-844b-504bfa5aff19",
   "metadata": {},
   "outputs": [],
   "source": [
    "length_features = new_df.apply(fetch_length_features, axis=1)\n",
    "\n",
    "new_df['abs_len_diff'] = list(map(lambda x: x[0], length_features))\n",
    "new_df['mean_len'] = list(map(lambda x: x[1], length_features))\n",
    "new_df['longest_substr_ratio'] = list(map(lambda x: x[2], length_features))"
   ]
  },
  {
   "cell_type": "code",
   "execution_count": 31,
   "id": "d0e4954f-7196-4dda-916b-6a79f9e2dbd0",
   "metadata": {},
   "outputs": [],
   "source": [
    "# Fuzzy Features\n",
    "from fuzzywuzzy import fuzz\n",
    "\n",
    "def fetch_fuzzy_features(row):\n",
    "    \n",
    "    q1 = row['question1']\n",
    "    q2 = row['question2']\n",
    "    \n",
    "    fuzzy_features = [0.0]*4\n",
    "    \n",
    "    # fuzz_ratio\n",
    "    fuzzy_features[0] = fuzz.QRatio(q1, q2)\n",
    "\n",
    "    # fuzz_partial_ratio\n",
    "    fuzzy_features[1] = fuzz.partial_ratio(q1, q2)\n",
    "\n",
    "    # token_sort_ratio\n",
    "    fuzzy_features[2] = fuzz.token_sort_ratio(q1, q2)\n",
    "\n",
    "    # token_set_ratio\n",
    "    fuzzy_features[3] = fuzz.token_set_ratio(q1, q2)\n",
    "\n",
    "    return fuzzy_features"
   ]
  },
  {
   "cell_type": "code",
   "execution_count": 32,
   "id": "6e65e73e-cf86-4711-ac53-fa5a277ab854",
   "metadata": {},
   "outputs": [],
   "source": [
    "fuzzy_features = new_df.apply(fetch_fuzzy_features, axis=1)\n",
    "\n",
    "# Creating new feature columns for fuzzy features\n",
    "new_df['fuzz_ratio'] = list(map(lambda x: x[0], fuzzy_features))\n",
    "new_df['fuzz_partial_ratio'] = list(map(lambda x: x[1], fuzzy_features))\n",
    "new_df['token_sort_ratio'] = list(map(lambda x: x[2], fuzzy_features))\n",
    "new_df['token_set_ratio'] = list(map(lambda x: x[3], fuzzy_features))"
   ]
  },
  {
   "cell_type": "code",
   "execution_count": 26,
   "id": "4bba54ec-5346-415c-9040-546992bef634",
   "metadata": {},
   "outputs": [
    {
     "name": "stdout",
     "output_type": "stream",
     "text": [
      "minimum characters 0\n",
      "maximum characters 239\n",
      "average num of characters 38\n"
     ]
    },
    {
     "data": {
      "image/png": "[encoded data removed]",
      "text/plain": [
       "<Figure size 500x500 with 1 Axes>"
      ]
     },
     "metadata": {},
     "output_type": "display_data"
    }
   ],
   "source": [
    "# Analysis of features\n",
    "sns.displot(new_df['q1_len'])\n",
    "print('minimum characters',new_df['q1_len'].min())\n",
    "print('maximum characters',new_df['q1_len'].max())\n",
    "print('average num of characters',int(new_df['q1_len'].mean()))"
   ]
  },
  {
   "cell_type": "code",
   "execution_count": 65,
   "id": "7d9cd375-b007-4ebd-9af0-5801784d2bbe",
   "metadata": {},
   "outputs": [
    {
     "name": "stdout",
     "output_type": "stream",
     "text": [
      "minimum characters 0\n",
      "maximum characters 356\n",
      "average num of characters 36\n"
     ]
    },
    {
     "data": {
      "image/png": "[encoded data removed]",
      "text/plain": [
       "<Figure size 500x500 with 1 Axes>"
      ]
     },
     "metadata": {},
     "output_type": "display_data"
    }
   ],
   "source": [
    "sns.displot(new_df['q2_len'])\n",
    "print('minimum characters',new_df['q2_len'].min())\n",
    "print('maximum characters',new_df['q2_len'].max())\n",
    "print('average num of characters',int(new_df['q2_len'].mean()))"
   ]
  },
  {
   "cell_type": "code",
   "execution_count": 66,
   "id": "5552e783-bf85-4500-85ef-5daecbfeb2ee",
   "metadata": {},
   "outputs": [
    {
     "name": "stdout",
     "output_type": "stream",
     "text": [
      "minimum words 1\n",
      "maximum words 35\n",
      "average num of words 5\n"
     ]
    },
    {
     "data": {
      "image/png": "[encoded data removed]",
      "text/plain": [
       "<Figure size 500x500 with 1 Axes>"
      ]
     },
     "metadata": {},
     "output_type": "display_data"
    }
   ],
   "source": [
    "sns.displot(new_df['q1_num_words'])\n",
    "print('minimum words',new_df['q1_num_words'].min())\n",
    "print('maximum words',new_df['q1_num_words'].max())\n",
    "print('average num of words',int(new_df['q1_num_words'].mean()))"
   ]
  },
  {
   "cell_type": "code",
   "execution_count": 67,
   "id": "c8a1e585-6353-4ac4-96e5-d52ba0a29a66",
   "metadata": {},
   "outputs": [
    {
     "name": "stdout",
     "output_type": "stream",
     "text": [
      "minimum words 1\n",
      "maximum words 54\n",
      "average num of words 5\n"
     ]
    },
    {
     "data": {
      "image/png": "[encoded data removed]",
      "text/plain": [
       "<Figure size 500x500 with 1 Axes>"
      ]
     },
     "metadata": {},
     "output_type": "display_data"
    }
   ],
   "source": [
    "sns.displot(new_df['q2_num_words'])\n",
    "print('minimum words',new_df['q2_num_words'].min())\n",
    "print('maximum words',new_df['q2_num_words'].max())\n",
    "print('average num of words',int(new_df['q2_num_words'].mean()))"
   ]
  },
  {
   "cell_type": "code",
   "execution_count": 68,
   "id": "a05dd27c-fd21-4e2e-b8f4-120060af0c39",
   "metadata": {},
   "outputs": [
    {
     "data": {
      "image/png": "[encoded data removed]",
      "text/plain": [
       "<Figure size 640x480 with 1 Axes>"
      ]
     },
     "metadata": {},
     "output_type": "display_data"
    }
   ],
   "source": [
    "# common words\n",
    "sns.distplot(new_df[new_df['is_duplicate'] == 0]['word_common'],label='non duplicate')\n",
    "sns.distplot(new_df[new_df['is_duplicate'] == 1]['word_common'],label='duplicate')\n",
    "plt.legend()\n",
    "plt.show()"
   ]
  },
  {
   "cell_type": "code",
   "execution_count": 69,
   "id": "cff4235c-a978-4bf9-8aca-d97e7ee0d61f",
   "metadata": {},
   "outputs": [
    {
     "data": {
      "image/png": "[encoded data removed]",
      "text/plain": [
       "<Figure size 640x480 with 1 Axes>"
      ]
     },
     "metadata": {},
     "output_type": "display_data"
    }
   ],
   "source": [
    "# total words\n",
    "sns.distplot(new_df[new_df['is_duplicate'] == 0]['word_total'],label='non duplicate')\n",
    "sns.distplot(new_df[new_df['is_duplicate'] == 1]['word_total'],label='duplicate')\n",
    "plt.legend()\n",
    "plt.show()"
   ]
  },
  {
   "cell_type": "code",
   "execution_count": 70,
   "id": "ee4abcaf-91d3-44ae-8df5-9332f0770eb7",
   "metadata": {},
   "outputs": [
    {
     "data": {
      "image/png": "[encoded data removed]",
      "text/plain": [
       "<Figure size 640x480 with 1 Axes>"
      ]
     },
     "metadata": {},
     "output_type": "display_data"
    }
   ],
   "source": [
    "# word share\n",
    "sns.distplot(new_df[new_df['is_duplicate'] == 0]['word_share'],label='non duplicate')\n",
    "sns.distplot(new_df[new_df['is_duplicate'] == 1]['word_share'],label='duplicate')\n",
    "plt.legend()\n",
    "plt.show()"
   ]
  },
  {
   "cell_type": "code",
   "execution_count": 33,
   "id": "50bc9ce0-ba66-4921-9ad8-80b28b2fb784",
   "metadata": {},
   "outputs": [
    {
     "data": {
      "text/html": [
       "<div>\n",
       "<style scoped>\n",
       "    .dataframe tbody tr th:only-of-type {\n",
       "        vertical-align: middle;\n",
       "    }\n",
       "\n",
       "    .dataframe tbody tr th {\n",
       "        vertical-align: top;\n",
       "    }\n",
       "\n",
       "    .dataframe thead th {\n",
       "        text-align: right;\n",
       "    }\n",
       "</style>\n",
       "<table border=\"1\" class=\"dataframe\">\n",
       "  <thead>\n",
       "    <tr style=\"text-align: right;\">\n",
       "      <th></th>\n",
       "      <th>question1</th>\n",
       "      <th>question2</th>\n",
       "    </tr>\n",
       "  </thead>\n",
       "  <tbody>\n",
       "    <tr>\n",
       "      <th>127540</th>\n",
       "      <td>block pingdom google chrome?</td>\n",
       "      <td>way block ad google chrome mobile application?</td>\n",
       "    </tr>\n",
       "    <tr>\n",
       "      <th>39931</th>\n",
       "      <td>italian expression 'bona sera' mean?</td>\n",
       "      <td>expression \"be heavy with\" mean?</td>\n",
       "    </tr>\n",
       "    <tr>\n",
       "      <th>93268</th>\n",
       "      <td>religion islam happy uniform civil code india?</td>\n",
       "      <td>major change expected india uniform civil code...</td>\n",
       "    </tr>\n",
       "    <tr>\n",
       "      <th>160928</th>\n",
       "      <td>split end slow hair growth?</td>\n",
       "      <td>braiding hair folding end upside speed hair gr...</td>\n",
       "    </tr>\n",
       "    <tr>\n",
       "      <th>199887</th>\n",
       "      <td>way earning money online?</td>\n",
       "      <td>could make money online?</td>\n",
       "    </tr>\n",
       "  </tbody>\n",
       "</table>\n",
       "</div>"
      ],
      "text/plain": [
       "                                             question1  \\\n",
       "127540                    block pingdom google chrome?   \n",
       "39931             italian expression 'bona sera' mean?   \n",
       "93268   religion islam happy uniform civil code india?   \n",
       "160928                     split end slow hair growth?   \n",
       "199887                       way earning money online?   \n",
       "\n",
       "                                                question2  \n",
       "127540     way block ad google chrome mobile application?  \n",
       "39931                    expression \"be heavy with\" mean?  \n",
       "93268   major change expected india uniform civil code...  \n",
       "160928  braiding hair folding end upside speed hair gr...  \n",
       "199887                           could make money online?  "
      ]
     },
     "execution_count": 33,
     "metadata": {},
     "output_type": "execute_result"
    }
   ],
   "source": [
    "ques_df = new_df[['question1','question2']]\n",
    "ques_df.head()"
   ]
  },
  {
   "cell_type": "code",
   "execution_count": 34,
   "id": "fc50c08c-15f4-4f93-a799-42e0ceab87e6",
   "metadata": {},
   "outputs": [],
   "source": [
    "from sklearn.feature_extraction.text import CountVectorizer\n",
    "# merge texts\n",
    "questions = list(ques_df['question1']) + list(ques_df['question2'])\n",
    "\n",
    "cv = CountVectorizer(max_features=3000)\n",
    "q1_arr, q2_arr = np.vsplit(cv.fit_transform(questions).toarray(),2)"
   ]
  },
  {
   "cell_type": "code",
   "execution_count": 35,
   "id": "83e22f0c-9939-48aa-9f4d-27166877f257",
   "metadata": {},
   "outputs": [
    {
     "data": {
      "text/plain": [
       "(29999, 6000)"
      ]
     },
     "execution_count": 35,
     "metadata": {},
     "output_type": "execute_result"
    }
   ],
   "source": [
    "temp_df1 = pd.DataFrame(q1_arr, index= ques_df.index)\n",
    "temp_df2 = pd.DataFrame(q2_arr, index= ques_df.index)\n",
    "temp_df = pd.concat([temp_df1, temp_df2], axis=1)\n",
    "temp_df.shape"
   ]
  },
  {
   "cell_type": "code",
   "execution_count": 36,
   "id": "5b373f0f-cb7b-4785-9622-2a3a005389e0",
   "metadata": {},
   "outputs": [
    {
     "name": "stdout",
     "output_type": "stream",
     "text": [
      "(29999, 23)\n"
     ]
    },
    {
     "data": {
      "text/html": [
       "<div>\n",
       "<style scoped>\n",
       "    .dataframe tbody tr th:only-of-type {\n",
       "        vertical-align: middle;\n",
       "    }\n",
       "\n",
       "    .dataframe tbody tr th {\n",
       "        vertical-align: top;\n",
       "    }\n",
       "\n",
       "    .dataframe thead th {\n",
       "        text-align: right;\n",
       "    }\n",
       "</style>\n",
       "<table border=\"1\" class=\"dataframe\">\n",
       "  <thead>\n",
       "    <tr style=\"text-align: right;\">\n",
       "      <th></th>\n",
       "      <th>is_duplicate</th>\n",
       "      <th>q1_len</th>\n",
       "      <th>q2_len</th>\n",
       "      <th>q1_num_words</th>\n",
       "      <th>q2_num_words</th>\n",
       "      <th>word_common</th>\n",
       "      <th>word_total</th>\n",
       "      <th>word_share</th>\n",
       "      <th>cwc_min</th>\n",
       "      <th>cwc_max</th>\n",
       "      <th>...</th>\n",
       "      <th>ctc_max</th>\n",
       "      <th>last_word_eq</th>\n",
       "      <th>first_word_eq</th>\n",
       "      <th>abs_len_diff</th>\n",
       "      <th>mean_len</th>\n",
       "      <th>longest_substr_ratio</th>\n",
       "      <th>fuzz_ratio</th>\n",
       "      <th>fuzz_partial_ratio</th>\n",
       "      <th>token_sort_ratio</th>\n",
       "      <th>token_set_ratio</th>\n",
       "    </tr>\n",
       "  </thead>\n",
       "  <tbody>\n",
       "    <tr>\n",
       "      <th>127540</th>\n",
       "      <td>0</td>\n",
       "      <td>28</td>\n",
       "      <td>46</td>\n",
       "      <td>4</td>\n",
       "      <td>7</td>\n",
       "      <td>2</td>\n",
       "      <td>11</td>\n",
       "      <td>0.18</td>\n",
       "      <td>0.499988</td>\n",
       "      <td>0.285710</td>\n",
       "      <td>...</td>\n",
       "      <td>0.285710</td>\n",
       "      <td>0.0</td>\n",
       "      <td>0.0</td>\n",
       "      <td>3.0</td>\n",
       "      <td>5.5</td>\n",
       "      <td>0.482759</td>\n",
       "      <td>58</td>\n",
       "      <td>75</td>\n",
       "      <td>58</td>\n",
       "      <td>83</td>\n",
       "    </tr>\n",
       "    <tr>\n",
       "      <th>39931</th>\n",
       "      <td>0</td>\n",
       "      <td>36</td>\n",
       "      <td>32</td>\n",
       "      <td>5</td>\n",
       "      <td>5</td>\n",
       "      <td>2</td>\n",
       "      <td>10</td>\n",
       "      <td>0.20</td>\n",
       "      <td>0.399992</td>\n",
       "      <td>0.399992</td>\n",
       "      <td>...</td>\n",
       "      <td>0.399992</td>\n",
       "      <td>1.0</td>\n",
       "      <td>0.0</td>\n",
       "      <td>0.0</td>\n",
       "      <td>5.0</td>\n",
       "      <td>0.333333</td>\n",
       "      <td>64</td>\n",
       "      <td>67</td>\n",
       "      <td>65</td>\n",
       "      <td>68</td>\n",
       "    </tr>\n",
       "    <tr>\n",
       "      <th>93268</th>\n",
       "      <td>1</td>\n",
       "      <td>46</td>\n",
       "      <td>58</td>\n",
       "      <td>7</td>\n",
       "      <td>9</td>\n",
       "      <td>3</td>\n",
       "      <td>16</td>\n",
       "      <td>0.19</td>\n",
       "      <td>0.428565</td>\n",
       "      <td>0.333330</td>\n",
       "      <td>...</td>\n",
       "      <td>0.333330</td>\n",
       "      <td>0.0</td>\n",
       "      <td>0.0</td>\n",
       "      <td>2.0</td>\n",
       "      <td>8.0</td>\n",
       "      <td>0.425532</td>\n",
       "      <td>53</td>\n",
       "      <td>61</td>\n",
       "      <td>57</td>\n",
       "      <td>70</td>\n",
       "    </tr>\n",
       "    <tr>\n",
       "      <th>160928</th>\n",
       "      <td>0</td>\n",
       "      <td>27</td>\n",
       "      <td>51</td>\n",
       "      <td>5</td>\n",
       "      <td>8</td>\n",
       "      <td>3</td>\n",
       "      <td>12</td>\n",
       "      <td>0.25</td>\n",
       "      <td>0.599988</td>\n",
       "      <td>0.428565</td>\n",
       "      <td>...</td>\n",
       "      <td>0.374995</td>\n",
       "      <td>1.0</td>\n",
       "      <td>0.0</td>\n",
       "      <td>3.0</td>\n",
       "      <td>6.5</td>\n",
       "      <td>0.464286</td>\n",
       "      <td>53</td>\n",
       "      <td>63</td>\n",
       "      <td>53</td>\n",
       "      <td>73</td>\n",
       "    </tr>\n",
       "    <tr>\n",
       "      <th>199887</th>\n",
       "      <td>1</td>\n",
       "      <td>25</td>\n",
       "      <td>24</td>\n",
       "      <td>4</td>\n",
       "      <td>4</td>\n",
       "      <td>2</td>\n",
       "      <td>8</td>\n",
       "      <td>0.25</td>\n",
       "      <td>0.499988</td>\n",
       "      <td>0.499988</td>\n",
       "      <td>...</td>\n",
       "      <td>0.499988</td>\n",
       "      <td>1.0</td>\n",
       "      <td>0.0</td>\n",
       "      <td>0.0</td>\n",
       "      <td>4.0</td>\n",
       "      <td>0.560000</td>\n",
       "      <td>64</td>\n",
       "      <td>67</td>\n",
       "      <td>60</td>\n",
       "      <td>69</td>\n",
       "    </tr>\n",
       "  </tbody>\n",
       "</table>\n",
       "<p>5 rows × 23 columns</p>\n",
       "</div>"
      ],
      "text/plain": [
       "        is_duplicate  q1_len  q2_len  q1_num_words  q2_num_words  word_common  \\\n",
       "127540             0      28      46             4             7            2   \n",
       "39931              0      36      32             5             5            2   \n",
       "93268              1      46      58             7             9            3   \n",
       "160928             0      27      51             5             8            3   \n",
       "199887             1      25      24             4             4            2   \n",
       "\n",
       "        word_total  word_share   cwc_min   cwc_max  ...   ctc_max  \\\n",
       "127540          11        0.18  0.499988  0.285710  ...  0.285710   \n",
       "39931           10        0.20  0.399992  0.399992  ...  0.399992   \n",
       "93268           16        0.19  0.428565  0.333330  ...  0.333330   \n",
       "160928          12        0.25  0.599988  0.428565  ...  0.374995   \n",
       "199887           8        0.25  0.499988  0.499988  ...  0.499988   \n",
       "\n",
       "        last_word_eq  first_word_eq  abs_len_diff  mean_len  \\\n",
       "127540           0.0            0.0           3.0       5.5   \n",
       "39931            1.0            0.0           0.0       5.0   \n",
       "93268            0.0            0.0           2.0       8.0   \n",
       "160928           1.0            0.0           3.0       6.5   \n",
       "199887           1.0            0.0           0.0       4.0   \n",
       "\n",
       "        longest_substr_ratio  fuzz_ratio  fuzz_partial_ratio  \\\n",
       "127540              0.482759          58                  75   \n",
       "39931               0.333333          64                  67   \n",
       "93268               0.425532          53                  61   \n",
       "160928              0.464286          53                  63   \n",
       "199887              0.560000          64                  67   \n",
       "\n",
       "        token_sort_ratio  token_set_ratio  \n",
       "127540                58               83  \n",
       "39931                 65               68  \n",
       "93268                 57               70  \n",
       "160928                53               73  \n",
       "199887                60               69  \n",
       "\n",
       "[5 rows x 23 columns]"
      ]
     },
     "execution_count": 36,
     "metadata": {},
     "output_type": "execute_result"
    }
   ],
   "source": [
    "final_df = new_df.drop(columns=['id','qid1','qid2','question1','question2'])\n",
    "print(final_df.shape)\n",
    "final_df.head()"
   ]
  },
  {
   "cell_type": "code",
   "execution_count": 38,
   "id": "60c1f89a-2035-47f5-be16-37ff6d0e4698",
   "metadata": {},
   "outputs": [
    {
     "name": "stdout",
     "output_type": "stream",
     "text": [
      "(29999, 6023)\n"
     ]
    },
    {
     "data": {
      "text/html": [
       "<div>\n",
       "<style scoped>\n",
       "    .dataframe tbody tr th:only-of-type {\n",
       "        vertical-align: middle;\n",
       "    }\n",
       "\n",
       "    .dataframe tbody tr th {\n",
       "        vertical-align: top;\n",
       "    }\n",
       "\n",
       "    .dataframe thead th {\n",
       "        text-align: right;\n",
       "    }\n",
       "</style>\n",
       "<table border=\"1\" class=\"dataframe\">\n",
       "  <thead>\n",
       "    <tr style=\"text-align: right;\">\n",
       "      <th></th>\n",
       "      <th>is_duplicate</th>\n",
       "      <th>q1_len</th>\n",
       "      <th>q2_len</th>\n",
       "      <th>q1_num_words</th>\n",
       "      <th>q2_num_words</th>\n",
       "      <th>word_common</th>\n",
       "      <th>word_total</th>\n",
       "      <th>word_share</th>\n",
       "      <th>cwc_min</th>\n",
       "      <th>cwc_max</th>\n",
       "      <th>...</th>\n",
       "      <th>2990</th>\n",
       "      <th>2991</th>\n",
       "      <th>2992</th>\n",
       "      <th>2993</th>\n",
       "      <th>2994</th>\n",
       "      <th>2995</th>\n",
       "      <th>2996</th>\n",
       "      <th>2997</th>\n",
       "      <th>2998</th>\n",
       "      <th>2999</th>\n",
       "    </tr>\n",
       "  </thead>\n",
       "  <tbody>\n",
       "    <tr>\n",
       "      <th>127540</th>\n",
       "      <td>0</td>\n",
       "      <td>28</td>\n",
       "      <td>46</td>\n",
       "      <td>4</td>\n",
       "      <td>7</td>\n",
       "      <td>2</td>\n",
       "      <td>11</td>\n",
       "      <td>0.18</td>\n",
       "      <td>0.499988</td>\n",
       "      <td>0.285710</td>\n",
       "      <td>...</td>\n",
       "      <td>0</td>\n",
       "      <td>0</td>\n",
       "      <td>0</td>\n",
       "      <td>0</td>\n",
       "      <td>0</td>\n",
       "      <td>0</td>\n",
       "      <td>0</td>\n",
       "      <td>0</td>\n",
       "      <td>0</td>\n",
       "      <td>0</td>\n",
       "    </tr>\n",
       "    <tr>\n",
       "      <th>39931</th>\n",
       "      <td>0</td>\n",
       "      <td>36</td>\n",
       "      <td>32</td>\n",
       "      <td>5</td>\n",
       "      <td>5</td>\n",
       "      <td>2</td>\n",
       "      <td>10</td>\n",
       "      <td>0.20</td>\n",
       "      <td>0.399992</td>\n",
       "      <td>0.399992</td>\n",
       "      <td>...</td>\n",
       "      <td>0</td>\n",
       "      <td>0</td>\n",
       "      <td>0</td>\n",
       "      <td>0</td>\n",
       "      <td>0</td>\n",
       "      <td>0</td>\n",
       "      <td>0</td>\n",
       "      <td>0</td>\n",
       "      <td>0</td>\n",
       "      <td>0</td>\n",
       "    </tr>\n",
       "    <tr>\n",
       "      <th>93268</th>\n",
       "      <td>1</td>\n",
       "      <td>46</td>\n",
       "      <td>58</td>\n",
       "      <td>7</td>\n",
       "      <td>9</td>\n",
       "      <td>3</td>\n",
       "      <td>16</td>\n",
       "      <td>0.19</td>\n",
       "      <td>0.428565</td>\n",
       "      <td>0.333330</td>\n",
       "      <td>...</td>\n",
       "      <td>0</td>\n",
       "      <td>0</td>\n",
       "      <td>0</td>\n",
       "      <td>0</td>\n",
       "      <td>0</td>\n",
       "      <td>0</td>\n",
       "      <td>0</td>\n",
       "      <td>0</td>\n",
       "      <td>0</td>\n",
       "      <td>0</td>\n",
       "    </tr>\n",
       "    <tr>\n",
       "      <th>160928</th>\n",
       "      <td>0</td>\n",
       "      <td>27</td>\n",
       "      <td>51</td>\n",
       "      <td>5</td>\n",
       "      <td>8</td>\n",
       "      <td>3</td>\n",
       "      <td>12</td>\n",
       "      <td>0.25</td>\n",
       "      <td>0.599988</td>\n",
       "      <td>0.428565</td>\n",
       "      <td>...</td>\n",
       "      <td>0</td>\n",
       "      <td>0</td>\n",
       "      <td>0</td>\n",
       "      <td>0</td>\n",
       "      <td>0</td>\n",
       "      <td>0</td>\n",
       "      <td>0</td>\n",
       "      <td>0</td>\n",
       "      <td>0</td>\n",
       "      <td>0</td>\n",
       "    </tr>\n",
       "    <tr>\n",
       "      <th>199887</th>\n",
       "      <td>1</td>\n",
       "      <td>25</td>\n",
       "      <td>24</td>\n",
       "      <td>4</td>\n",
       "      <td>4</td>\n",
       "      <td>2</td>\n",
       "      <td>8</td>\n",
       "      <td>0.25</td>\n",
       "      <td>0.499988</td>\n",
       "      <td>0.499988</td>\n",
       "      <td>...</td>\n",
       "      <td>0</td>\n",
       "      <td>0</td>\n",
       "      <td>0</td>\n",
       "      <td>0</td>\n",
       "      <td>0</td>\n",
       "      <td>0</td>\n",
       "      <td>0</td>\n",
       "      <td>0</td>\n",
       "      <td>0</td>\n",
       "      <td>0</td>\n",
       "    </tr>\n",
       "  </tbody>\n",
       "</table>\n",
       "<p>5 rows × 6023 columns</p>\n",
       "</div>"
      ],
      "text/plain": [
       "        is_duplicate  q1_len  q2_len  q1_num_words  q2_num_words  word_common  \\\n",
       "127540             0      28      46             4             7            2   \n",
       "39931              0      36      32             5             5            2   \n",
       "93268              1      46      58             7             9            3   \n",
       "160928             0      27      51             5             8            3   \n",
       "199887             1      25      24             4             4            2   \n",
       "\n",
       "        word_total  word_share   cwc_min   cwc_max  ...  2990  2991  2992  \\\n",
       "127540          11        0.18  0.499988  0.285710  ...     0     0     0   \n",
       "39931           10        0.20  0.399992  0.399992  ...     0     0     0   \n",
       "93268           16        0.19  0.428565  0.333330  ...     0     0     0   \n",
       "160928          12        0.25  0.599988  0.428565  ...     0     0     0   \n",
       "199887           8        0.25  0.499988  0.499988  ...     0     0     0   \n",
       "\n",
       "        2993  2994  2995  2996  2997  2998  2999  \n",
       "127540     0     0     0     0     0     0     0  \n",
       "39931      0     0     0     0     0     0     0  \n",
       "93268      0     0     0     0     0     0     0  \n",
       "160928     0     0     0     0     0     0     0  \n",
       "199887     0     0     0     0     0     0     0  \n",
       "\n",
       "[5 rows x 6023 columns]"
      ]
     },
     "execution_count": 38,
     "metadata": {},
     "output_type": "execute_result"
    }
   ],
   "source": [
    "final_df = pd.concat([final_df, temp_df], axis=1)\n",
    "print(final_df.shape)\n",
    "final_df.head()"
   ]
  },
  {
   "cell_type": "code",
   "execution_count": 39,
   "id": "c4fd29c2-778f-4aff-b5b0-b222729e7f62",
   "metadata": {},
   "outputs": [],
   "source": [
    "X=final_df.iloc[:,1:].values\n",
    "y=final_df.iloc[:,0].values"
   ]
  },
  {
   "cell_type": "code",
   "execution_count": 124,
   "id": "80ee5034-ca32-4a3c-a01a-e805d19f0633",
   "metadata": {},
   "outputs": [],
   "source": [
    "from sklearn.preprocessing import StandardScaler\n",
    "scaler=StandardScaler()\n",
    "X=scaler.fit_transform(X)"
   ]
  },
  {
   "cell_type": "code",
   "execution_count": 40,
   "id": "574fa312-1b9f-49a1-acb7-46c4302e642e",
   "metadata": {},
   "outputs": [],
   "source": [
    "from sklearn.model_selection import train_test_split\n",
    "X_train,X_test,y_train,y_test = train_test_split(X,y,test_size=0.2,random_state=20)"
   ]
  },
  {
   "cell_type": "code",
   "execution_count": 41,
   "id": "5497e7ac-a49a-41c0-875f-8e6c60a08b40",
   "metadata": {},
   "outputs": [
    {
     "data": {
      "text/plain": [
       "0.7951666666666667"
      ]
     },
     "execution_count": 41,
     "metadata": {},
     "output_type": "execute_result"
    }
   ],
   "source": [
    "from sklearn.ensemble import RandomForestClassifier\n",
    "from sklearn.metrics import accuracy_score\n",
    "rf = RandomForestClassifier()\n",
    "rf.fit(X_train,y_train)\n",
    "y_pred = rf.predict(X_test)\n",
    "accuracy_score(y_test,y_pred)"
   ]
  },
  {
   "cell_type": "code",
   "execution_count": 42,
   "id": "6322162a-288f-4605-993e-98d16e5afaef",
   "metadata": {},
   "outputs": [
    {
     "data": {
      "text/plain": [
       "0.798"
      ]
     },
     "execution_count": 42,
     "metadata": {},
     "output_type": "execute_result"
    }
   ],
   "source": [
    "from xgboost import XGBClassifier\n",
    "xgb = XGBClassifier()\n",
    "xgb.fit(X_train,y_train)\n",
    "y_pred = xgb.predict(X_test)\n",
    "accuracy_score(y_test,y_pred)"
   ]
  },
  {
   "cell_type": "code",
   "execution_count": null,
   "id": "559221db-9492-4a85-9f9e-8825cefbae21",
   "metadata": {},
   "outputs": [],
   "source": [
    "\n",
    "# Using TSNE for Dimentionality reduction for 15 Features(Generated after cleaning the data) to 3 dimention\n",
    "\n",
    "from sklearn.preprocessing import StandardScaler\n",
    "import pandas as pd\n",
    "\n",
    "columns_to_scale = [\n",
    "    'cwc_min', 'cwc_max', 'csc_min', 'csc_max',\n",
    "    'ctc_min', 'ctc_max', 'last_word_eq', 'first_word_eq',\n",
    "    'abs_len_diff', 'mean_len', 'token_set_ratio', 'token_sort_ratio',\n",
    "    'fuzz_ratio', 'fuzz_partial_ratio', 'longest_substr_ratio'\n",
    "]\n",
    "\n",
    "scaler = StandardScaler()\n",
    "scaled_array = scaler.fit_transform(new_df[columns_to_scale])\n",
    "new_df = pd.DataFrame(scaled_array, columns=columns_to_scale, index=new_df.index)\n"
   ]
  },
  {
   "cell_type": "code",
   "execution_count": null,
   "id": "98000aa3-6a4c-44f0-9e1a-896346f526ef",
   "metadata": {},
   "outputs": [],
   "source": [
    "new_df['cwc_min']"
   ]
  },
  {
   "cell_type": "code",
   "execution_count": 86,
   "id": "e21fbd28-8c4e-4b70-a7c1-355e5b13003e",
   "metadata": {},
   "outputs": [
    {
     "data": {
      "text/plain": [
       "(29999, 15)"
      ]
     },
     "execution_count": 86,
     "metadata": {},
     "output_type": "execute_result"
    }
   ],
   "source": [
    "new_df.shape"
   ]
  },
  {
   "cell_type": "code",
   "execution_count": null,
   "id": "03795297-e11b-4c9f-80ae-2c7593934317",
   "metadata": {},
   "outputs": [],
   "source": []
  }
 ],
 "metadata": {
  "kernelspec": {
   "display_name": "Python 3 (ipykernel)",
   "language": "python",
   "name": "python3"
  },
  "language_info": {
   "codemirror_mode": {
    "name": "ipython",
    "version": 3
   },
   "file_extension": ".py",
   "mimetype": "text/x-python",
   "name": "python",
   "nbconvert_exporter": "python",
   "pygments_lexer": "ipython3",
   "version": "3.12.1"
  }
 },
 "nbformat": 4,
 "nbformat_minor": 5
}
